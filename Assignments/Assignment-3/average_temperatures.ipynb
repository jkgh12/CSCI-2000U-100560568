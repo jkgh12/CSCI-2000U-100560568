{
 "cells": [
  {
   "cell_type": "code",
   "execution_count": null,
   "metadata": {
    "collapsed": true
   },
   "outputs": [],
   "source": [
    "#Hyo Kim 100560568 Question 3\n"
   ]
  },
  {
   "cell_type": "code",
   "execution_count": 27,
   "metadata": {
    "collapsed": false
   },
   "outputs": [],
   "source": [
    "#each temperature data file is arranged by the month from January and December.\n",
    "\n",
    "#reading montreal temperature\n",
    "montreal = []\n",
    "file = open('montreal_temperature_2012.dat', 'r')\n",
    "data = file.read().splitlines()\n",
    "\n",
    "#change string array to integer array\n",
    "montreal = [float(x) for x in data]\n",
    "file.close()\n",
    "\n",
    "#reading toronto temperature\n",
    "toronto = []\n",
    "file = open('toronto_temperature_2012.dat', 'r')\n",
    "data = file.read().splitlines()\n",
    "\n",
    "#change string array to integer array\n",
    "toronto = [float(x) for x in data]\n",
    "file.close()\n",
    "\n",
    "#reading vancouver temperature\n",
    "vancouver = []\n",
    "file = open('vancouver_temperature_2012.dat', 'r')\n",
    "data = file.read().splitlines()\n",
    "\n",
    "#change string array to integer array\n",
    "vancouver = [float(x) for x in data]\n",
    "file.close()\n",
    "\n",
    "#month array Jan to December\n",
    "month = ['Jan','Feb','Mar','Apr','May','Jun','Jul','Aug','Sep','Oct','Nov','Dec']\n",
    "months = [1,2,3,4,5,6,7,8,9,10,11,12]\n",
    "\n",
    "import matplotlib.pyplot as plt\n",
    "import numpy as np\n",
    "\n",
    "##MONTREAL\n",
    "#set x as months in arry and set y as temperature\n",
    "x = np.array(months)\n",
    "y = np.array(montreal)\n",
    "\n",
    "#plot graph in dot for montreal\n",
    "plt.plot(x, y, 'bs')\n",
    "\n",
    "#plot graph in line for Montreal\n",
    "plt.plot(x,y, color = 'blue', label = 'Montreal')\n",
    "\n",
    "##TORONTO\n",
    "#set x as months in arry and set y as temperature\n",
    "y = np.array(toronto)\n",
    "\n",
    "#plot graph in dot for toronto\n",
    "plt.plot(x, y, 'ro')\n",
    "\n",
    "#plot graph in line for toronto\n",
    "plt.plot(x,y, color = 'red', label = 'Toronto')\n",
    "\n",
    "##Vancouver\n",
    "#set x as months in arry and set y as temperature\n",
    "y = np.array(vancouver)\n",
    "\n",
    "#plot graph in dot for vancouver\n",
    "plt.plot(x, y, 'g^')\n",
    "\n",
    "#plot graph in line for vancouver\n",
    "plt.plot(x,y, color = 'green', label = 'Vancouver')\n",
    "\n",
    "#range of x-axis and y-axis\n",
    "plt.axis([1,12,-10,25])\n",
    "\n",
    "#x value change to letter, 1 -> Jan, so on.\n",
    "plt.xticks(x,month)\n",
    "\n",
    "#position of the legend\n",
    "plt.legend(loc = 'upper right')\n",
    "\n",
    "#x-axis label and y-axis label\n",
    "plt.xlabel('Month(January to December)')\n",
    "plt.ylabel('Temperature in Celcius(average temperature)')\n",
    "\n",
    "#title\n",
    "plt.title('2012 average monthly temperature (100560568)')\n",
    "plt.show()\n"
   ]
  }
 ],
 "metadata": {
  "kernelspec": {
   "display_name": "Python 3",
   "language": "python",
   "name": "python3"
  },
  "language_info": {
   "codemirror_mode": {
    "name": "ipython",
    "version": 3
   },
   "file_extension": ".py",
   "mimetype": "text/x-python",
   "name": "python",
   "nbconvert_exporter": "python",
   "pygments_lexer": "ipython3",
   "version": "3.4.3"
  }
 },
 "nbformat": 4,
 "nbformat_minor": 0
}
