{
 "cells": [
  {
   "cell_type": "code",
   "execution_count": 1,
   "metadata": {
    "collapsed": true
   },
   "outputs": [],
   "source": [
    "# Hyo Kim 100560568 Assignment 3 Question 1"
   ]
  },
  {
   "cell_type": "code",
   "execution_count": 9,
   "metadata": {
    "collapsed": false
   },
   "outputs": [],
   "source": [
    "def pn (n):\n",
    "    sum = 0.0;\n",
    "    for x in range (1,n+1):\n",
    "        sum += ((-1)**(x+1))/((2*x)-1)\n",
    "\n",
    "    sum = sum * 4;\n",
    "    print(\"When n =      %d, rho_n =  %0.11f\" % (n, sum))\n",
    "    "
   ]
  },
  {
   "cell_type": "code",
   "execution_count": 10,
   "metadata": {
    "collapsed": false
   },
   "outputs": [],
   "source": [
    "def tn (n):\n",
    "    sum = 0.0;\n",
    "    for x in range(1, n+1):\n",
    "        sum += (1/(x**2))\n",
    "        \n",
    "    sum = (sum *6) **(1/2)\n",
    "    print (\"When n =      %d, tau_n = %0.11f\" % (n, sum))"
   ]
  },
  {
   "cell_type": "code",
   "execution_count": 11,
   "metadata": {
    "collapsed": true
   },
   "outputs": [],
   "source": [
    "def mn (n):\n",
    "    sum = 0.0\n",
    "    for x in range(1, n+1):\n",
    "        sum += (1/(x**4))\n",
    "        \n",
    "    sum = (sum *90) ** (1/4)\n",
    "    print(\"When n =      %d, mu_n = %0.11f\" % (n, sum))"
   ]
  },
  {
   "cell_type": "code",
   "execution_count": 12,
   "metadata": {
    "collapsed": false,
    "scrolled": true
   },
   "outputs": [
    {
     "name": "stdout",
     "output_type": "stream",
     "text": [
      "When n =      10, rho_n =  3.04183961893\n",
      "When n =      10, tau_n = 3.04936163598\n",
      "When n =      10, mu_n = 3.14138462247\n",
      "When n =      100, rho_n =  3.13159290356\n",
      "When n =      100, tau_n = 3.13207653181\n",
      "When n =      100, mu_n = 3.14159241531\n",
      "When n =      1000, rho_n =  3.14059265384\n",
      "When n =      1000, tau_n = 3.14063805621\n",
      "When n =      1000, mu_n = 3.14159265335\n",
      "When n =      10000, rho_n =  3.14149265359\n",
      "When n =      10000, tau_n = 3.14149716395\n",
      "When n =      10000, mu_n = 3.14159265359\n",
      "When n =      100000, rho_n =  3.14158265359\n",
      "When n =      100000, tau_n = 3.14158310433\n",
      "When n =      100000, mu_n = 3.14159265359\n",
      "When n =      1000000, rho_n =  3.14159165359\n",
      "When n =      1000000, tau_n = 3.14159169866\n",
      "When n =      1000000, mu_n = 3.14159265359\n"
     ]
    }
   ],
   "source": [
    "n = 10\n",
    "while(n < 1000001):\n",
    "    pn(n)\n",
    "    tn(n)\n",
    "    mn(n)\n",
    "    n = n * 10"
   ]
  }
 ],
 "metadata": {
  "kernelspec": {
   "display_name": "Python 3",
   "language": "python",
   "name": "python3"
  },
  "language_info": {
   "codemirror_mode": {
    "name": "ipython",
    "version": 3
   },
   "file_extension": ".py",
   "mimetype": "text/x-python",
   "name": "python",
   "nbconvert_exporter": "python",
   "pygments_lexer": "ipython3",
   "version": "3.4.3"
  }
 },
 "nbformat": 4,
 "nbformat_minor": 0
}
