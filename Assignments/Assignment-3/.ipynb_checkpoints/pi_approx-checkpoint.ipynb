{
 "cells": [
  {
   "cell_type": "code",
   "execution_count": 1,
   "metadata": {
    "collapsed": true
   },
   "outputs": [],
   "source": [
    "# Hyo Kim 100560568 Assignment 3 Question 1"
   ]
  },
  {
   "cell_type": "code",
   "execution_count": 6,
   "metadata": {
    "collapsed": false
   },
   "outputs": [],
   "source": [
    "#pn function is the first eqaution in the assignment\n",
    "#This function is accepting parameter as Integer and finds the sum\n",
    "def pn (n):\n",
    "    sum = 0.0;\n",
    "    for x in range (1,n+1):\n",
    "        #keep adding till x reaches n+1 because if I just put n, it will only run less than one it should run.\n",
    "        sum += ((-1)**(x+1))/((2*x)-1)\n",
    "\n",
    "    #at the end, multiply it by 4\n",
    "    sum = sum * 4;\n",
    "    \n",
    "    #print the sum of the equation.\n",
    "    print(\"When n = %7d, rho_n = %0.11f\" % (n, sum))\n",
    "    "
   ]
  },
  {
   "cell_type": "code",
   "execution_count": 7,
   "metadata": {
    "collapsed": false
   },
   "outputs": [],
   "source": [
    "#tn function is the second equation in the assignment\n",
    "#this function is accepting parameter as Integer and finds the sum\n",
    "def tn (n):\n",
    "    sum = 0.0;\n",
    "    for x in range(1, n+1):\n",
    "        #keep adding till x reaches n+1 because if I just put n, it will only run less than one it should run.\n",
    "        sum += (1/(x**2))\n",
    "    \n",
    "    #final step of getting sum is multiply by 6, then expoent to (1/2)\n",
    "    sum = (sum *6) **(1/2)\n",
    "    \n",
    "    #print the sum out \n",
    "    print (\"When n = %7d, tau_n = %0.11f\" % (n, sum))"
   ]
  },
  {
   "cell_type": "code",
   "execution_count": 8,
   "metadata": {
    "collapsed": true
   },
   "outputs": [],
   "source": [
    "#mn function is the last equation in the assignment\n",
    "#this function is accepting parameter as Integer and finds the sum\n",
    "def mn (n):\n",
    "    sum = 0.0\n",
    "    for x in range(1, n+1):\n",
    "        #keep adding till x reaches n+1, below is the equation.\n",
    "        sum += (1/(x**4))\n",
    "    \n",
    "    #final step of getting sum is that sum is multiplied by 90 then exponent to 1/4\n",
    "    sum = (sum *90) ** (1/4)\n",
    "    \n",
    "    #print the sum\n",
    "    print(\"When n = %7d,  mu_n = %0.11f\" % (n, sum))"
   ]
  },
  {
   "cell_type": "code",
   "execution_count": 5,
   "metadata": {
    "collapsed": false,
    "scrolled": true
   },
   "outputs": [
    {
     "name": "stdout",
     "output_type": "stream",
     "text": [
      "When n =      10, rho_n =  3.04183961893\n",
      "When n =      10, tau_n = 3.04936163598\n",
      "When n =      10, mu_n = 3.14138462247\n",
      "When n =     100, rho_n =  3.13159290356\n",
      "When n =     100, tau_n = 3.13207653181\n",
      "When n =     100, mu_n = 3.14159241531\n",
      "When n =    1000, rho_n =  3.14059265384\n",
      "When n =    1000, tau_n = 3.14063805621\n",
      "When n =    1000, mu_n = 3.14159265335\n",
      "When n =   10000, rho_n =  3.14149265359\n",
      "When n =   10000, tau_n = 3.14149716395\n",
      "When n =   10000, mu_n = 3.14159265359\n",
      "When n =  100000, rho_n =  3.14158265359\n",
      "When n =  100000, tau_n = 3.14158310433\n",
      "When n =  100000, mu_n = 3.14159265359\n",
      "When n = 1000000, rho_n =  3.14159165359\n",
      "When n = 1000000, tau_n = 3.14159169866\n",
      "When n = 1000000, mu_n = 3.14159265359\n"
     ]
    }
   ],
   "source": [
    "#n has to start from 10\n",
    "n = 10\n",
    "#Run the while loop until n is smaller than 1000001\n",
    "#because I need the last n to be 1000000.\n",
    "while(n < 1000001):\n",
    "    #passing n to each functions\n",
    "    pn(n)\n",
    "    tn(n)\n",
    "    mn(n)\n",
    "    \n",
    "    #n is going to change by multiply 10, meaning it will get bigger by 10 times\n",
    "    n = n * 10"
   ]
  },
  {
   "cell_type": "code",
   "execution_count": null,
   "metadata": {
    "collapsed": true
   },
   "outputs": [],
   "source": []
  },
  {
   "cell_type": "code",
   "execution_count": null,
   "metadata": {
    "collapsed": true
   },
   "outputs": [],
   "source": []
  }
 ],
 "metadata": {
  "kernelspec": {
   "display_name": "Python 3",
   "language": "python",
   "name": "python3"
  },
  "language_info": {
   "codemirror_mode": {
    "name": "ipython",
    "version": 3
   },
   "file_extension": ".py",
   "mimetype": "text/x-python",
   "name": "python",
   "nbconvert_exporter": "python",
   "pygments_lexer": "ipython3",
   "version": "3.4.3"
  }
 },
 "nbformat": 4,
 "nbformat_minor": 0
}
