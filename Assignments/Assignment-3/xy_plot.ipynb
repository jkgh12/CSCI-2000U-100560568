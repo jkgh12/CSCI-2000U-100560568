{
 "cells": [
  {
   "cell_type": "code",
   "execution_count": 1,
   "metadata": {
    "collapsed": true
   },
   "outputs": [],
   "source": [
    "#Hyo Kim 100560568 Question 4"
   ]
  },
  {
   "cell_type": "code",
   "execution_count": 1,
   "metadata": {
    "collapsed": false,
    "scrolled": false
   },
   "outputs": [],
   "source": [
    "def circle(x, y):\n",
    "    import numpy as np\n",
    "    #circle equation given\n",
    "    r = (((x-0)**2) + ((y-5)**2))**(0.5)\n",
    "    \n",
    "    #return r\n",
    "    return r;\n",
    "\n",
    "import matplotlib.pyplot as plt\n",
    "import numpy as np\n",
    "#set x and y array double as empty\n",
    "x_val = []\n",
    "y_val = []\n",
    "\n",
    "#read x and y points in xy_points.dat file\n",
    "file = open('xy_points.dat','r')\n",
    "temp_x = file.readline().split()\n",
    "temp_y = file.readline().split()\n",
    "\n",
    "x_val = [float(x) for x in temp_x]\n",
    "y_val = [float(x) for x in temp_y]\n",
    "# x_val = [-5,-4,-3,-2,0,1,2,3]\n",
    "# y_val = [-5,-4,-3,-2,0,1,2,3]\n",
    "plt.plot(x_val,y_val,'ro')\n",
    "\n",
    "#numpy array for x and y val.\n",
    "y = np.array(y_val)\n",
    "x = np.array(x_val)\n",
    "\n",
    "#logical index array that x<-2 and -5<=y<=0\n",
    "new_x = x[(x<-2) & (-5<=y) & (0>=y)]\n",
    "new_y = y[(x<-2) & (-5<=y) & (0>=y)]\n",
    "\n",
    "#plot the logical index array as blue circle\n",
    "plt.plot(new_x,new_y, 'bo')\n",
    "\n",
    "# title\n",
    "plt.title(\"Highlighted points(100560568)\")\n",
    "\n",
    "#x-axis label and y-axis label\n",
    "plt.xlabel('x-value')\n",
    "plt.ylabel('y-value')\n",
    "\n",
    "#circle index array that r <=5, meaning x and r is in range of 0 and 5\n",
    "#circle_x and circle_y array will get values from\n",
    "#x and y array if the radius is less than or equal to 5\n",
    "circle_x = x[(5>=circle(x,y))]\n",
    "circle_y = y[(5>=circle(x,y))]\n",
    "\n",
    "plt.plot(circle_x,circle_y,'go')\n",
    "\n",
    "#axis customized\n",
    "plt.axis([-10,10,-10,10])\n",
    "\n",
    "plt.show()\n",
    "\n"
   ]
  },
  {
   "cell_type": "code",
   "execution_count": null,
   "metadata": {
    "collapsed": true
   },
   "outputs": [],
   "source": []
  },
  {
   "cell_type": "code",
   "execution_count": null,
   "metadata": {
    "collapsed": true
   },
   "outputs": [],
   "source": []
  },
  {
   "cell_type": "code",
   "execution_count": null,
   "metadata": {
    "collapsed": true
   },
   "outputs": [],
   "source": []
  }
 ],
 "metadata": {
  "kernelspec": {
   "display_name": "Python 3",
   "language": "python",
   "name": "python3"
  },
  "language_info": {
   "codemirror_mode": {
    "name": "ipython",
    "version": 3
   },
   "file_extension": ".py",
   "mimetype": "text/x-python",
   "name": "python",
   "nbconvert_exporter": "python",
   "pygments_lexer": "ipython3",
   "version": "3.4.3"
  }
 },
 "nbformat": 4,
 "nbformat_minor": 0
}
