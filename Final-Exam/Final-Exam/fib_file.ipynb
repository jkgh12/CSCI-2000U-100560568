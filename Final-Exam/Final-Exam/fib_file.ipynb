{
 "cells": [
  {
   "cell_type": "code",
   "execution_count": 38,
   "metadata": {
    "collapsed": true
   },
   "outputs": [],
   "source": [
    "#Hyo Kim 100560568 Question 4"
   ]
  },
  {
   "cell_type": "code",
   "execution_count": 45,
   "metadata": {
    "collapsed": false
   },
   "outputs": [],
   "source": [
    "#fib function\n",
    "def fib_file(n, fname):\n",
    "    writer = open(fname, 'w')\n",
    "    \n",
    "    count = 0;\n",
    "    F_n =[];\n",
    "    \n",
    "    #this will do the fib method\n",
    "    while(count != n+1):\n",
    "        \n",
    "        #first two if statment is the base case for fib when n =0 and n=1\n",
    "        if(count == 0):\n",
    "            F_n.append(0)\n",
    "            count+=1\n",
    "        if(count == 1):\n",
    "            F_n.append(1)\n",
    "            count+=1\n",
    "        \n",
    "        if(count>1):\n",
    "            F_n.append(F_n[count-2] + F_n[count-1])\n",
    "            count+=1\n",
    "            \n",
    "    assert F_n[0] == 0\n",
    "    \n",
    "    writer.write(\"n     F_n\\n\")        \n",
    "    for i in range(len(F_n)):\n",
    "        b = str(i) + \"      \" + str(F_n[i])\n",
    "        writer.write(b+\"\\n\")        \n",
    " \n",
    "    \n",
    "    writer.close()        "
   ]
  },
  {
   "cell_type": "code",
   "execution_count": 46,
   "metadata": {
    "collapsed": false
   },
   "outputs": [],
   "source": [
    "fib_file(6,\"fname_n.txt\")\n"
   ]
  },
  {
   "cell_type": "code",
   "execution_count": null,
   "metadata": {
    "collapsed": true
   },
   "outputs": [],
   "source": []
  }
 ],
 "metadata": {
  "kernelspec": {
   "display_name": "Python 3",
   "language": "python",
   "name": "python3"
  },
  "language_info": {
   "codemirror_mode": {
    "name": "ipython",
    "version": 3
   },
   "file_extension": ".py",
   "mimetype": "text/x-python",
   "name": "python",
   "nbconvert_exporter": "python",
   "pygments_lexer": "ipython3",
   "version": "3.4.3"
  }
 },
 "nbformat": 4,
 "nbformat_minor": 0
}
